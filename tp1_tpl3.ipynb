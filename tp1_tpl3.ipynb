{
 "cells": [
  {
   "cell_type": "markdown",
   "metadata": {},
   "source": [
    "# Criterios de evaluación.\n",
    "\n",
    "* Se deben utilizar nombres de variables descriptivos y claros (Utilizar la nomeclatura correspondiente para los nombres de variables).\n",
    "* Comentarios claros y concisos que expliquen el propósito de cada sección del código.\n",
    "* Entrega en tiempo y forma.\n",
    "* Todo el código desarrollado debe ser subido a un repositorio en GitHub (el nombre del repositorio de seguir la siguiente estructura: tp1_tlp3_Juan_Stöck).\n",
    "\n",
    "\n",
    "**Aclaración: Para resolver las actividades se debe incertar casillas de codigo entre cada actividad del cuaderno de Jupyter**"
   ]
  },
  {
   "cell_type": "markdown",
   "metadata": {},
   "source": [
    "### 1. **Hola Mundo y Variables**\n",
    "\n",
    "   - **Actividad 1.1**: Deben escribir un programa que imprima \"¡Hola, Mundo!\" en la consola.\n",
    "   - **Actividad 1.2**: Deben crear una variable llamada `nombre` y hacer que el programa imprima un saludo personalizado: `Hola, <nombre>!`"
   ]
  },
  {
   "cell_type": "code",
   "execution_count": 41,
   "metadata": {},
   "outputs": [
    {
     "name": "stdout",
     "output_type": "stream",
     "text": [
      "Hola Mundo!\n",
      "Hola,  Juancho\n"
     ]
    }
   ],
   "source": [
    "nombre = \"Juancho\"\n",
    "print(\"Hola Mundo!\")\n",
    "print('Hola, ', nombre)\n"
   ]
  },
  {
   "cell_type": "markdown",
   "metadata": {},
   "source": [
    "### 2. **Operaciones Matemáticas Básicas**\n",
    "\n",
    "   - **Actividad 1.1**: Crear un programa que pida al usuario dos números y realice las cuatro operaciones matemáticas básicas (suma, resta, multiplicación y división), imprimiendo los resultados.\n",
    "   - **Actividad 1.2**: Hacer que el programa calcule el promedio de los dos números."
   ]
  },
  {
   "cell_type": "code",
   "execution_count": null,
   "metadata": {},
   "outputs": [
    {
     "name": "stdout",
     "output_type": "stream",
     "text": [
      "Ingrese dos números\n",
      "La suma de ambos números es:  18 \n",
      "La resta de ambos números es:  -6 \n",
      "El producto sería:  72 \n",
      "La división seria:  0.5 \n",
      "El promedio de ambos números sería:  9.0\n"
     ]
    }
   ],
   "source": [
    "print(\"Ingrese dos números\")\n",
    "#num1 = input(\"Ingrese el primer número: \")\n",
    "#num2 = input(\"Ingrese el segundo número: \")\n",
    "num1 = 6\n",
    "num2 = 12\n",
    "print(\"La Suma de ambos números es: \", num1 + num2,'\\n'\n",
    "    \"La Resta de ambos números es: \", num1 - num2, '\\n'\n",
    "    \"El Producto sería: \", num1 * num2, '\\n'\n",
    "    \"La División seria: \", num1/num2, '\\n'\n",
    "    \"El Promedio de ambos números sería: \", (num1 + num2)/2 )"
   ]
  },
  {
   "cell_type": "markdown",
   "metadata": {},
   "source": [
    "### 3. **Condicionales (if-else)**\n",
    "\n",
    "   - **Actividad 1.1**: Escribir un programa que pida al usuario su edad y le diga si es mayor de edad (18 años o más).\n",
    "   - **Actividad 1.2**: Agregar un mensaje diferente para diferentes rangos de edad, como por ejemplo, si es un niño, adolescente o adulto."
   ]
  },
  {
   "cell_type": "code",
   "execution_count": 18,
   "metadata": {},
   "outputs": [
    {
     "name": "stdout",
     "output_type": "stream",
     "text": [
      "Verificador de edad\n",
      "Es Adulto.\n"
     ]
    }
   ],
   "source": [
    "print(\"Verificador de edad\")\n",
    "#edad = input(\"Ingrese su edad: \")\n",
    "edad = 27\n",
    "if 18 <= edad < 112 :\n",
    "    print(\"Es Adulto.\")\n",
    "elif 13 <= edad < 18:\n",
    "    print (\"Es Adolescente.\")\n",
    "elif 0 < edad < 13:\n",
    "    print(\"Es un Niño\")\n",
    "else:\n",
    "    print(\"La edad ingresa esta fuera de los parametros\")"
   ]
  },
  {
   "cell_type": "markdown",
   "metadata": {},
   "source": [
    "### 4. **Ciclos (while, for)**\n",
    "\n",
    "   - **Actividad 1.1**: Escribir un programa que imprima los números del 1 al 10 usando un bucle `for`.\n",
    "   - **Actividad 1.2**: Usar un bucle `while` para imprimir los números del 1 al 10, e imprimir solo aquellos números que sean divisibles por 2."
   ]
  },
  {
   "cell_type": "code",
   "execution_count": 26,
   "metadata": {},
   "outputs": [
    {
     "name": "stdout",
     "output_type": "stream",
     "text": [
      "- FOR - \n",
      "1\n",
      "2\n",
      "3\n",
      "4\n",
      "5\n",
      "6\n",
      "7\n",
      "8\n",
      "9\n",
      "10\n",
      "- WHILE - \n",
      "10 , es divisble por 2.\n",
      "8 , es divisble por 2.\n",
      "6 , es divisble por 2.\n",
      "4 , es divisble por 2.\n",
      "2 , es divisble por 2.\n"
     ]
    }
   ],
   "source": [
    "print(\"- FOR - \")\n",
    "for i in range(1,11):\n",
    "    print(i)\n",
    "\n",
    "print(\"- WHILE - \")\n",
    "\n",
    "numdiv = 10\n",
    "\n",
    "while numdiv != 0:\n",
    "    if (numdiv%2) == 0:\n",
    "        print(numdiv,\", es divisble por 2.\")\n",
    "    numdiv = numdiv -1\n",
    "    "
   ]
  },
  {
   "cell_type": "markdown",
   "metadata": {},
   "source": [
    "### 5. **Listas y Bucles**\n",
    "\n",
    "   - **Actividad 1.1**: Crear una lista con 5 números y escribir un programa que imprima cada número de la lista usando un bucle `for`.\n",
    "   - **Actividad 1.2**: Usar un bucle para calcular la suma de los números de la lista."
   ]
  },
  {
   "cell_type": "code",
   "execution_count": 38,
   "metadata": {},
   "outputs": [
    {
     "name": "stdout",
     "output_type": "stream",
     "text": [
      "- LISTAS -\n",
      "3\n",
      "4\n",
      "24\n",
      "29\n",
      "30\n",
      "- Bucle de Suma -\n",
      "La suma de los numeros de la lista es:  90\n"
     ]
    }
   ],
   "source": [
    "print(\"- LISTAS -\")\n",
    "listafor = [3,4,24,29,30]\n",
    "sumalista = 0\n",
    "for i in range(len(listafor)):\n",
    "    print(listafor[i])\n",
    "    \n",
    "print(\"- Bucle de Suma -\")\n",
    "for suma in listafor:\n",
    "    sumalista += suma\n",
    "print (\"La suma de los numeros de la lista es: \", sumalista)"
   ]
  },
  {
   "cell_type": "markdown",
   "metadata": {},
   "source": [
    "### 6. **Funciones**\n",
    "\n",
    "   - **Actividad 1.1**: Escribir una función llamada `saludo` que reciba un nombre como parámetro y devuelva un saludo personalizado.\n",
    "   - **Actividad 1.2**: Crear una función que reciba dos números y devuelva su suma, resta, multiplicación y división."
   ]
  },
  {
   "cell_type": "code",
   "execution_count": 52,
   "metadata": {},
   "outputs": [
    {
     "name": "stdout",
     "output_type": "stream",
     "text": [
      "Hola, Juancho !\n",
      "-Funcion Números-\n",
      "Suma:  18 \n",
      "Resta:  -6 \n",
      "Producto:  72 \n",
      "Division:  0.5\n"
     ]
    }
   ],
   "source": [
    "def saludo(nombre):\n",
    "    print(\"Hola,\", nombre, \"!\")\n",
    "    \n",
    "saludo(nombre)\n",
    "\n",
    "print (\"-Funcion Números-\")\n",
    "\n",
    "def operaciones (num1,num2):\n",
    "    print(\"Suma: \", num1 + num2, '\\n'\n",
    "            \"Resta: \", num1 - num2,'\\n'\n",
    "            \"Producto: \", num1 * num2, '\\n'\n",
    "            \"Division: \", num1 / num2)\n",
    "operaciones(num1,num2)"
   ]
  },
  {
   "cell_type": "markdown",
   "metadata": {},
   "source": [
    "### 7. **Manejo de cadenas de texto**\n",
    "\n",
    "   - **Actividad 1.1**: Escribir un programa que pida al usuario su nombre y lo imprima en mayúsculas y en minúsculas.\n",
    "   - **Actividad 1.2**: Hacer que el programa imprima la longitud del nombre ingresado (no tener en cuenta los espacios en blanco)."
   ]
  },
  {
   "cell_type": "code",
   "execution_count": 49,
   "metadata": {},
   "outputs": [
    {
     "name": "stdout",
     "output_type": "stream",
     "text": [
      "Nombre en Minuscula:  juancho\n",
      "Nombre en Mayuscula:  JUANCHO\n"
     ]
    }
   ],
   "source": [
    "#name = input(\"Ingrese su nombre: \")\n",
    "def minmay (nombre):\n",
    "    print(\"Nombre en Minuscula: \", nombre.lower())\n",
    "    print(\"Nombre en Mayuscula: \", nombre.upper())\n",
    "minmay(nombre)"
   ]
  },
  {
   "cell_type": "markdown",
   "metadata": {},
   "source": [
    "### 8. **Diccionarios**\n",
    "\n",
    "   - **Actividad1.1**: Crear un diccionario que contenga los nombres de tres personas como claves y sus edades como valores. El programa debe imprimir la edad de cada persona.\n",
    "   - **Actividad1.2**: Escribir un programa que pregunte al usuario un nombre, luego su edad y los agregue al diccionario."
   ]
  },
  {
   "cell_type": "code",
   "execution_count": 59,
   "metadata": {},
   "outputs": [
    {
     "name": "stdout",
     "output_type": "stream",
     "text": [
      "Juan 32\n",
      "Seba 33\n",
      "Messi 36\n",
      " - Agrege sus datos -\n",
      "Se actualizo el Diccionario de Personas.\n",
      "Juan 32\n",
      "Seba 33\n",
      "Messi 36\n",
      "Joker 37\n"
     ]
    }
   ],
   "source": [
    "personas = {\"Juan\":32,  #Clave de tipo string con valor numérico\n",
    "    \"Seba\":33,\n",
    "    \"Messi\":36}\n",
    "for nom, age in personas.items():\n",
    "    print(nom,age)\n",
    "    \n",
    "print(\" - Agrege sus datos -\")\n",
    "\n",
    "#nuevoNom = input(\"Ingrese su Nombre: \")\n",
    "nuevoNom = \"Joker\"\n",
    "#nuevaEdad = input(\"Ingrese su Edad: \")\n",
    "nuevaEdad = 37\n",
    "\n",
    "personas[nuevoNom]= nuevaEdad\n",
    "print(\"Se actualizo el Diccionario de Personas.\")\n",
    "\n",
    "for nom, age in personas.items():\n",
    "    print(nom,age)\n"
   ]
  },
  {
   "cell_type": "markdown",
   "metadata": {},
   "source": [
    "### 9. **Números aleatorios**\n",
    "\n",
    "   - **Actividad 1.1**: Escribir un programa que genere 5 números aleatorios entre 1 y 100, lo imprima por consola y diga si es mayor o menor a 50.\n",
    "   - **Actividad 1.2**: Sumar los 5 números generados aleatoriamente y en caso de que el resultado sea mayor a 100, mostrar el valor antes de ser mayor a 100 y cuantos números se sumaron para llegar a dicho valor."
   ]
  },
  {
   "cell_type": "code",
   "execution_count": 64,
   "metadata": {},
   "outputs": [
    {
     "name": "stdout",
     "output_type": "stream",
     "text": [
      "83 es mayor a 50.\n",
      "88 es mayor a 50.\n",
      "97 es mayor a 50.\n",
      "3 es menor que 50.\n",
      "57 es mayor a 50.\n"
     ]
    }
   ],
   "source": [
    "import random\n",
    "\n",
    "\n",
    "for i in range(5):\n",
    "    cinco_aleatorios = random.randint(1,100)\n",
    "    if cinco_aleatorios > 50:\n",
    "        print(cinco_aleatorios, \"es mayor a 50.\")\n",
    "    elif cinco_aleatorios < 50:\n",
    "        print(cinco_aleatorios, \"es menor que 50.\")\n",
    "    else:\n",
    "        print(cinco_aleatorios, \"es igual a 50\")\n"
   ]
  },
  {
   "cell_type": "markdown",
   "metadata": {},
   "source": [
    "### 10. **Proyecto Final: Calculadora**\n",
    "\n",
    "   - **Actividad 1.1**: Los estudiantes deben crear una calculadora básica que permita realizar operaciones de suma, resta, multiplicación y división con entradas del usuario. El programa debe pedir al usuario que elija la operación y luego introducir 2 números para realizar el cálculo.\n",
    "   - **Actividad 1.2**: Implementar una opción para que el usuario pueda continuar haciendo cálculos o salir del programa."
   ]
  },
  {
   "cell_type": "code",
   "execution_count": null,
   "metadata": {},
   "outputs": [],
   "source": []
  },
  {
   "cell_type": "markdown",
   "metadata": {},
   "source": [
    "### EXTRA. **Juegos Simples (Adivina el número)**\n",
    "\n",
    "   - **Actividad 1.1**: Escribir un juego donde el programa elija un número aleatorio entre 1 y 100 y el usuario tenga que adivinarlo. El programa debe dar pistas si el número es mayor o menor.\n",
    "   - **Actividad 1.2**: Limitar el número de intentos y mostrar un mensaje de éxito o fracaso al final."
   ]
  }
 ],
 "metadata": {
  "kernelspec": {
   "display_name": "Python 3",
   "language": "python",
   "name": "python3"
  },
  "language_info": {
   "codemirror_mode": {
    "name": "ipython",
    "version": 3
   },
   "file_extension": ".py",
   "mimetype": "text/x-python",
   "name": "python",
   "nbconvert_exporter": "python",
   "pygments_lexer": "ipython3",
   "version": "3.12.9"
  }
 },
 "nbformat": 4,
 "nbformat_minor": 2
}
