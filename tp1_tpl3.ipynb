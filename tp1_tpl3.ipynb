{
 "cells": [
  {
   "cell_type": "markdown",
   "metadata": {},
   "source": [
    "# Criterios de evaluación.\n",
    "\n",
    "* Se deben utilizar nombres de variables descriptivos y claros (Utilizar la nomeclatura correspondiente para los nombres de variables).\n",
    "* Comentarios claros y concisos que expliquen el propósito de cada sección del código.\n",
    "* Entrega en tiempo y forma.\n",
    "* Todo el código desarrollado debe ser subido a un repositorio en GitHub (el nombre del repositorio de seguir la siguiente estructura: tp1_tlp3_Juan_Stöck).\n",
    "\n",
    "\n",
    "**Aclaración: Para resolver las actividades se debe incertar casillas de codigo entre cada actividad del cuaderno de Jupyter**"
   ]
  },
  {
   "cell_type": "markdown",
   "metadata": {},
   "source": [
    "### 1. **Hola Mundo y Variables**\n",
    "\n",
    "   - **Actividad 1.1**: Deben escribir un programa que imprima \"¡Hola, Mundo!\" en la consola.\n",
    "   - **Actividad 1.2**: Deben crear una variable llamada `nombre` y hacer que el programa imprima un saludo personalizado: `Hola, <nombre>!`"
   ]
  },
  {
   "cell_type": "code",
   "execution_count": 3,
   "metadata": {},
   "outputs": [
    {
     "name": "stdout",
     "output_type": "stream",
     "text": [
      "Hola Mundo!\n",
      "Hola,  Juancho\n"
     ]
    }
   ],
   "source": [
    "nombre = \"Juancho\" ;\n",
    "print(\"Hola Mundo!\")\n",
    "print('Hola, ', nombre)\n"
   ]
  },
  {
   "cell_type": "markdown",
   "metadata": {},
   "source": [
    "### 2. **Operaciones Matemáticas Básicas**\n",
    "\n",
    "   - **Actividad 1.1**: Crear un programa que pida al usuario dos números y realice las cuatro operaciones matemáticas básicas (suma, resta, multiplicación y división), imprimiendo los resultados.\n",
    "   - **Actividad 1.2**: Hacer que el programa calcule el promedio de los dos números."
   ]
  },
  {
   "cell_type": "code",
   "execution_count": null,
   "metadata": {},
   "outputs": [
    {
     "name": "stdout",
     "output_type": "stream",
     "text": [
      "Ingrese dos números\n",
      "La suma de ambos números es:  18 \n",
      "La resta de ambos números es:  -6 \n",
      "El producto sería:  72 \n",
      "La división seria:  0.5 \n",
      "El promedio de ambos números sería:  9.0\n"
     ]
    }
   ],
   "source": [
    "print(\"Ingrese dos números\")\n",
    "#num1 = input(\"Ingrese el primer número: \")\n",
    "#num2 = input(\"Ingrese el segundo número: \")\n",
    "num1 = 6\n",
    "num2 = 12\n",
    "print(\"La Suma de ambos números es: \", num1 + num2,'\\n'\n",
    "    \"La Resta de ambos números es: \", num1 - num2, '\\n'\n",
    "    \"El Producto sería: \", num1 * num2, '\\n'\n",
    "    \"La División seria: \", num1/num2, '\\n'\n",
    "    \"El Promedio de ambos números sería: \", (num1 + num2)/2 )"
   ]
  },
  {
   "cell_type": "markdown",
   "metadata": {},
   "source": [
    "### 3. **Condicionales (if-else)**\n",
    "\n",
    "   - **Actividad 1.1**: Escribir un programa que pida al usuario su edad y le diga si es mayor de edad (18 años o más).\n",
    "   - **Actividad 1.2**: Agregar un mensaje diferente para diferentes rangos de edad, como por ejemplo, si es un niño, adolescente o adulto."
   ]
  },
  {
   "cell_type": "code",
   "execution_count": 18,
   "metadata": {},
   "outputs": [
    {
     "name": "stdout",
     "output_type": "stream",
     "text": [
      "Verificador de edad\n",
      "Es Adulto.\n"
     ]
    }
   ],
   "source": [
    "print(\"Verificador de edad\")\n",
    "#edad = input(\"Ingrese su edad: \")\n",
    "edad = 27\n",
    "if 18 <= edad < 112 :\n",
    "    print(\"Es Adulto.\")\n",
    "elif 13 <= edad < 18:\n",
    "    print (\"Es Adolescente.\")\n",
    "elif 0 < edad < 13:\n",
    "    print(\"Es un Niño\")\n",
    "else:\n",
    "    print(\"La edad ingresa esta fuera de los parametros\")"
   ]
  }
 ],
 "metadata": {
  "kernelspec": {
   "display_name": "Python 3",
   "language": "python",
   "name": "python3"
  },
  "language_info": {
   "codemirror_mode": {
    "name": "ipython",
    "version": 3
   },
   "file_extension": ".py",
   "mimetype": "text/x-python",
   "name": "python",
   "nbconvert_exporter": "python",
   "pygments_lexer": "ipython3",
   "version": "3.12.9"
  }
 },
 "nbformat": 4,
 "nbformat_minor": 2
}
